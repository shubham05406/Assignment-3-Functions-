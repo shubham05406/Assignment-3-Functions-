{
 "cells": [
  {
   "cell_type": "code",
   "execution_count": 1,
   "id": "a6590f68",
   "metadata": {},
   "outputs": [],
   "source": [
    "# Write a python function to sum all the number is a list"
   ]
  },
  {
   "cell_type": "code",
   "execution_count": 21,
   "id": "c4fca66a",
   "metadata": {},
   "outputs": [
    {
     "name": "stdout",
     "output_type": "stream",
     "text": [
      "enter the list:[8, 2, 3, 0, 7]\n"
     ]
    },
    {
     "data": {
      "text/plain": [
       "20"
      ]
     },
     "execution_count": 21,
     "metadata": {},
     "output_type": "execute_result"
    }
   ],
   "source": [
    "list1=eval(input((\"enter the list:\" )))\n",
    "def sum_list(list1):\n",
    "    sum_total=0\n",
    "    for element in list1:\n",
    "        sum_total=sum_total+element\n",
    "    return sum_total\n",
    "sum_list(list1)\n",
    "        \n"
   ]
  },
  {
   "cell_type": "code",
   "execution_count": null,
   "id": "0bf1ef6a",
   "metadata": {},
   "outputs": [],
   "source": [
    "# Write a python program to reverse the string"
   ]
  },
  {
   "cell_type": "code",
   "execution_count": 5,
   "id": "d47e3375",
   "metadata": {},
   "outputs": [
    {
     "name": "stdout",
     "output_type": "stream",
     "text": [
      "Enter the word that need to revers: 1234abcd\n",
      "dcba4321"
     ]
    }
   ],
   "source": [
    "def revers_string(word):\n",
    "    for i in range(len(word)-1,-1,-1):\n",
    "        print(word[i],end=\"\")\n",
    "word1=input(\"Enter the word that need to revers: \")\n",
    "revers_string(word1)"
   ]
  },
  {
   "cell_type": "code",
   "execution_count": 6,
   "id": "cbe53a49",
   "metadata": {},
   "outputs": [],
   "source": [
    "# Write a Python function that accepts a string and calculate the number of upper case letters and lower case letters."
   ]
  },
  {
   "cell_type": "code",
   "execution_count": 23,
   "id": "c21f9c8b",
   "metadata": {},
   "outputs": [
    {
     "name": "stdout",
     "output_type": "stream",
     "text": [
      "Enter the sentence: The quick Brow Fox\n",
      "The number of upper case letters are 3\n",
      "The number of lower case letters are 12\n"
     ]
    }
   ],
   "source": [
    "def upper_lower_number(word):\n",
    "    upper_count=0\n",
    "    lower_count=0\n",
    "    for char in word:\n",
    "        if char.isupper():\n",
    "            upper_count+=1\n",
    "        elif char.isspace():\n",
    "            continue\n",
    "        else:\n",
    "            lower_count+=1\n",
    "    print(\"The number of upper case letters are\",upper_count)\n",
    "    print(\"The number of lower case letters are\",lower_count)\n",
    "\n",
    "word=input(\"Enter the sentence: \")\n",
    "upper_lower_number(word)"
   ]
  },
  {
   "cell_type": "code",
   "execution_count": null,
   "id": "329ad09c",
   "metadata": {},
   "outputs": [],
   "source": []
  }
 ],
 "metadata": {
  "kernelspec": {
   "display_name": "Python 3 (ipykernel)",
   "language": "python",
   "name": "python3"
  },
  "language_info": {
   "codemirror_mode": {
    "name": "ipython",
    "version": 3
   },
   "file_extension": ".py",
   "mimetype": "text/x-python",
   "name": "python",
   "nbconvert_exporter": "python",
   "pygments_lexer": "ipython3",
   "version": "3.9.12"
  }
 },
 "nbformat": 4,
 "nbformat_minor": 5
}
